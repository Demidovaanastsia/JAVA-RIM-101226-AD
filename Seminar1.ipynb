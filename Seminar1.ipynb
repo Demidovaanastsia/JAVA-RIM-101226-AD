{
 "cells": [
  {
   "cell_type": "markdown",
   "metadata": {},
   "source": [
    "#  Задание 1 "
   ]
  },
  {
   "cell_type": "code",
   "execution_count": null,
   "metadata": {},
   "outputs": [],
   "source": [
    "mas=['w',1,'i',9,'n',7]\n",
    "print(mas[0],mas[2],mas[-2])"
   ]
  },
  {
   "cell_type": "markdown",
   "metadata": {},
   "source": [
    "# Задание 2"
   ]
  },
  {
   "cell_type": "code",
   "execution_count": null,
   "metadata": {},
   "outputs": [],
   "source": [
    "mas=[1,2,3,4,5,6,7]\n",
    "N=100\n",
    "if (len(mas))>=N:\n",
    "    print(mas[N-1]**N)\n",
    "else:\n",
    "    print(-1)"
   ]
  },
  {
   "cell_type": "markdown",
   "metadata": {},
   "source": [
    "# Задание 3 "
   ]
  },
  {
   "cell_type": "code",
   "execution_count": null,
   "metadata": {},
   "outputs": [],
   "source": [
    "sber='сбербанк'\n",
    "b='б'\n",
    "find=sber.find(b)\n",
    "find2=sber.find(b,find+1)\n",
    "print(find2)"
   ]
  },
  {
   "cell_type": "code",
   "execution_count": null,
   "metadata": {},
   "outputs": [],
   "source": [
    "sber=['сбербанк','б']\n",
    "find=sber[0].find(sber[1],sber[0].find(sber[1])+1)\n",
    "print(find)"
   ]
  },
  {
   "cell_type": "markdown",
   "metadata": {},
   "source": [
    "# Задание 4"
   ]
  },
  {
   "cell_type": "code",
   "execution_count": null,
   "metadata": {},
   "outputs": [],
   "source": [
    "number=int(input())\n",
    "zero=0\n",
    "while number % 10==0:\n",
    "    number//=10\n",
    "    zero+=1\n",
    "print(zero)"
   ]
  },
  {
   "cell_type": "markdown",
   "metadata": {},
   "source": [
    "# Задание 5"
   ]
  },
  {
   "cell_type": "code",
   "execution_count": null,
   "metadata": {},
   "outputs": [],
   "source": [
    "stroka=input()\n",
    "print(stroka[::-1])"
   ]
  },
  {
   "cell_type": "code",
   "execution_count": null,
   "metadata": {},
   "outputs": [],
   "source": [
    "stroka=input()\n",
    "res=''.join(reversed(stroka))\n",
    "print(res)"
   ]
  },
  {
   "cell_type": "markdown",
   "metadata": {},
   "source": [
    "# Задание 6"
   ]
  },
  {
   "cell_type": "code",
   "execution_count": null,
   "metadata": {},
   "outputs": [],
   "source": [
    "mas=[]\n",
    "for i in range(6):\n",
    "    what=input()\n",
    "    mas.append(what)\n",
    "if mas[0]==mas[1]==mas[2]==mas[3]==mas[4]==mas[5]:\n",
    "    print('массив состоит из одних значений')\n",
    "else:\n",
    "    print('массив состоит из разных значений')"
   ]
  },
  {
   "cell_type": "code",
   "execution_count": null,
   "metadata": {},
   "outputs": [],
   "source": [
    "mas=[]\n",
    "clonmas=[]\n",
    "for i in range(6):\n",
    "    what=input()\n",
    "    mas.append(what)\n",
    "clonmas.append(mas[0])\n",
    "clonmas=clonmas*len(mas)\n",
    "if clonmas==mas:\n",
    "    print('массив состоит из одних значений')\n",
    "else:\n",
    "    print('массив состоит из разных значений')"
   ]
  },
  {
   "cell_type": "markdown",
   "metadata": {},
   "source": [
    "# Задание 7"
   ]
  },
  {
   "cell_type": "code",
   "execution_count": null,
   "metadata": {},
   "outputs": [],
   "source": [
    "up = ['Q', 'W', 'E', 'R', 'T', 'Y', 'U', 'I', 'O', 'P', 'A', 'S', 'D', 'F', 'G', 'H', 'J', 'K', 'L', 'Z', 'X', 'C', 'V',\n",
    "      'B', 'N', 'M']\n",
    "down = ['q', 'w', 'e', 'r', 't', 'y', 'u', 'i', 'o', 'p', 'a', 's', 'd', 'f', 'g', 'h', 'j', 'k', 'l', 'z', 'x', 'c',\n",
    "        'v', 'b', 'n', 'm']\n",
    "number = ['1', '2', '3', '4', '5', '6', '7', '8', '9', '0']\n",
    "all = up+down+number\n",
    "password = input()\n",
    "f = True\n",
    "f1 = f2 = f3 = False\n",
    "for p in password:\n",
    "    if p not in all:\n",
    "        f = False\n",
    "\n",
    "for p in password:\n",
    "    if p in up:\n",
    "        f1 = True\n",
    "    if p in down:\n",
    "        f2 = True\n",
    "    if p in number:\n",
    "        f3 = True\n",
    "\n",
    "if len(password) >= 16 and f * f1 * f2 * f3 == True:\n",
    "    print('win')\n",
    "else:\n",
    "    print('loser')"
   ]
  },
  {
   "cell_type": "markdown",
   "metadata": {},
   "source": [
    "# Задание 8"
   ]
  },
  {
   "cell_type": "code",
   "execution_count": null,
   "metadata": {},
   "outputs": [],
   "source": [
    "import numpy as np\n",
    "a = np.array([ [[1, 2]], [[2, 3]], [[3, 4]],[[3, 4]] ])\n",
    "print (a.flatten())"
   ]
  },
  {
   "cell_type": "markdown",
   "metadata": {},
   "source": [
    "# Задание 9"
   ]
  },
  {
   "cell_type": "code",
   "execution_count": null,
   "metadata": {},
   "outputs": [],
   "source": [
    "max=0\n",
    "name=''\n",
    "dict={'qwed':1,'ert':4,'win':3485,'634':777}\n",
    "for i in dict:\n",
    "    if dict[i] >= max:\n",
    "        max=dict[i]\n",
    "        name=i\n",
    "print(name)"
   ]
  },
  {
   "cell_type": "markdown",
   "metadata": {},
   "source": [
    "# Задание 10"
   ]
  },
  {
   "cell_type": "code",
   "execution_count": null,
   "metadata": {},
   "outputs": [],
   "source": [
    "mas=[]\n",
    "for i in range(6):\n",
    "    dano=input()\n",
    "    mas.append(dano)\n",
    "if len(mas) != len(set(mas)):\n",
    "    for i in mas:\n",
    "        if mas.count(i) >= 2:\n",
    "            print(i,end='')\n",
    "else:\n",
    "    print('уникальный массив')"
   ]
  }
 ],
 "metadata": {
  "kernelspec": {
   "display_name": "Python 3",
   "language": "python",
   "name": "python3"
  },
  "language_info": {
   "codemirror_mode": {
    "name": "ipython",
    "version": 3
   },
   "file_extension": ".py",
   "mimetype": "text/x-python",
   "name": "python",
   "nbconvert_exporter": "python",
   "pygments_lexer": "ipython3",
   "version": "3.8.3"
  }
 },
 "nbformat": 4,
 "nbformat_minor": 4
}
