{
 "cells": [
  {
   "cell_type": "markdown",
   "metadata": {},
   "source": [
    "# Задание 1 "
   ]
  },
  {
   "cell_type": "code",
   "execution_count": null,
   "metadata": {},
   "outputs": [],
   "source": [
    "s='gggggggAAAAAAA&&&&&&&&&&&&&&&&'\n",
    "s=s.lower()\n",
    "d =[]\n",
    "maxim=0\n",
    "chet=1\n",
    "l=''\n",
    "for i in s:\n",
    "    d.append(i)\n",
    "d.sort()\n",
    "for i in range(len(d)-1):\n",
    "    if d[i]==d[i+1] and d[i].isalpha():\n",
    "        chet+=1\n",
    "    else:\n",
    "        chet=1\n",
    "    if chet>maxim:\n",
    "        maxim=chet\n",
    "        l=d[i]\n",
    "print(l)"
   ]
  },
  {
   "cell_type": "markdown",
   "metadata": {},
   "source": [
    "# Задание 2 \n"
   ]
  },
  {
   "cell_type": "code",
   "execution_count": null,
   "metadata": {},
   "outputs": [],
   "source": [
    "a = input().split()\n",
    "mmm=1\n",
    "for i in range(len(a)-1):\n",
    "    if a[i].isalpha() and a[i+1].isalpha():\n",
    "        mmm+=1\n",
    "        if mmm==3:\n",
    "            print('True')\n",
    "            break\n",
    "    else:\n",
    "        mmm=1"
   ]
  },
  {
   "cell_type": "markdown",
   "metadata": {},
   "source": [
    "# Задание 3\n"
   ]
  },
  {
   "cell_type": "code",
   "execution_count": null,
   "metadata": {},
   "outputs": [],
   "source": [
    "#Непонятно считаются ли буквы в разном регистре одинаковыми? Я посчитла, что нет)\n",
    "\n",
    "text='eweIUhdseiwwwwwwwwwewe/dsdTYY,.1111111'\n",
    "d =[]\n",
    "chet=1\n",
    "maxim=0\n",
    "for i in text:\n",
    "    d.append(i)\n",
    "for i in range(len(text) - 1):\n",
    "    if text[i] == text[i + 1] and text[i].isalpha():\n",
    "        chet+=1\n",
    "        if chet>maxim:\n",
    "            maxim=chet\n",
    "    else:\n",
    "        chet=1\n",
    "print(maxim)"
   ]
  },
  {
   "cell_type": "markdown",
   "metadata": {},
   "source": [
    "# Задание 4"
   ]
  },
  {
   "cell_type": "code",
   "execution_count": null,
   "metadata": {},
   "outputs": [],
   "source": [
    "s='WkdscnsdI345 3 43!!!!!! jfnsdiNwoduw   '\n",
    "d =[]\n",
    "g=[]\n",
    "for i in s:\n",
    "    d.append(i)\n",
    "for i in range(len(d) - 1):\n",
    "    if d[i].isupper():\n",
    "        g.append(d[i])\n",
    "word = ''.join(g)\n",
    "print(word)"
   ]
  },
  {
   "cell_type": "markdown",
   "metadata": {},
   "source": [
    "# Задание 5"
   ]
  },
  {
   "cell_type": "code",
   "execution_count": null,
   "metadata": {},
   "outputs": [],
   "source": [
    "s1=[1,3,4,5,3,3,3,3,23,2,3,4,4,4]\n",
    "s2=[]\n",
    "s3=[]\n",
    "s4=[]\n",
    "s5=[]\n",
    "s6=[]\n",
    "for i in s1:\n",
    "    if i not in s2:\n",
    "        s2.append(i)\n",
    "for i in s2:\n",
    "    s3.append(s1.count(i))\n",
    "print(s2)\n",
    "print(s3)\n",
    "while max(s3) != 0:\n",
    "    s4.append(s3[s3.index(max(s3))])\n",
    "    s5.append(s2[s3.index(max(s3))])\n",
    "    s3[s3.index(max(s3))] = 0\n",
    "for i in range(len(s4)):\n",
    "    for w in range(s4[i]):\n",
    "        s6.append(s5[i])\n"
   ]
  },
  {
   "cell_type": "markdown",
   "metadata": {},
   "source": [
    "# Задание 6"
   ]
  },
  {
   "cell_type": "code",
   "execution_count": null,
   "metadata": {},
   "outputs": [],
   "source": [
    "f=[{1,4,2,5}, 3]\n",
    "f2=f[1]\n",
    "f3=list(f[0])\n",
    "f4=0\n",
    "minimum=abs(max(f3))+f2+1\n",
    "for i in range(len(f3)):\n",
    "    if minimum>abs(f2-f3[i]):\n",
    "        minimum=abs(f2-f3[i])\n",
    "        f4=f3[i]\n",
    "print(f4)"
   ]
  },
  {
   "cell_type": "markdown",
   "metadata": {},
   "source": [
    "# Задание 7 "
   ]
  },
  {
   "cell_type": "code",
   "execution_count": null,
   "metadata": {},
   "outputs": [],
   "source": [
    "def zadanie8(x,y,N):\n",
    "    if y==8:\n",
    "        return N\n",
    "    if x==1:\n",
    "        return zadanie8(2, y+1, N)\n",
    "    if x==8:\n",
    "        return zadanie8(7, y+1, N)\n",
    "    return (zadanie8(x+1, y+1, N) + zadanie8(x-1, y+1, N))\n",
    "print(\"Введите x и y\")\n",
    "x=int(input())\n",
    "y=int(input())\n",
    "print(zadanie8(x,y,1))"
   ]
  }
 ],
 "metadata": {
  "kernelspec": {
   "display_name": "Python 3",
   "language": "python",
   "name": "python3"
  },
  "language_info": {
   "codemirror_mode": {
    "name": "ipython",
    "version": 3
   },
   "file_extension": ".py",
   "mimetype": "text/x-python",
   "name": "python",
   "nbconvert_exporter": "python",
   "pygments_lexer": "ipython3",
   "version": "3.8.3"
  }
 },
 "nbformat": 4,
 "nbformat_minor": 4
}
